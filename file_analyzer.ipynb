{
 "cells": [
  {
   "cell_type": "code",
   "execution_count": null,
   "id": "dede49f8",
   "metadata": {},
   "outputs": [
    {
     "ename": "",
     "evalue": "",
     "output_type": "error",
     "traceback": [
      "\u001b[1;31mRunning cells with 'Python 3.12.11' requires the ipykernel package.\n",
      "\u001b[1;31m<a href='command:jupyter.createPythonEnvAndSelectController'>Create a Python Environment</a> with the required packages."
     ]
    }
   ],
   "source": [
    "import pandas as pd\n",
    "import numpy as np\n",
    "import matplotlib.pyplot as plt\n",
    "import plotly.express as px\n",
    "import plotly.graph_objects as go\n",
    "\n",
    "df = pd.read_csv(r\"C:\\Users\\dvecseri\\WWT International\\Tractor Performance Project - General\\AE25027\\ToolLog_UZ688_250213_034846.csv\")"
   ]
  },
  {
   "cell_type": "code",
   "execution_count": null,
   "id": "dff43ee3",
   "metadata": {},
   "outputs": [],
   "source": [
    "start = 40000\n",
    "end = 140000\n",
    "time_section = df.loc[(df[\"Time\"] > start) & (df[\"Time\"] < end)]\n",
    "data_section = df.loc[(df[\"BorePressure\"] > start) & (df[\"BorePressure\"] < end)]\n"
   ]
  },
  {
   "cell_type": "code",
   "execution_count": null,
   "id": "df014363",
   "metadata": {},
   "outputs": [],
   "source": [
    "# df.plot(x = \"Time\", y = \"BorePressure\", kind = \"line\")\n",
    "\n",
    "# plt.show()"
   ]
  },
  {
   "cell_type": "code",
   "execution_count": null,
   "id": "8676681c",
   "metadata": {},
   "outputs": [],
   "source": [
    "# fig = px.line(df, x = \"Time\", y = \"BorePressure\", title = \"Bore Pressure vs Time\", labels = {\"Time\": \"Time (s)\", \"BorePressure\": \"Bore Pressure (psi)\"})\n",
    "fig = px.line(x = time_section, y = data_section, title = \"Bore Pressure vs Time\", labels = {\"Time\": \"Time (s)\", \"BorePressure\": \"Bore Pressure (psi)\"})\n",
    "\n",
    "fig.show()"
   ]
  },
  {
   "cell_type": "code",
   "execution_count": null,
   "id": "64cb0821",
   "metadata": {},
   "outputs": [],
   "source": [
    "# fig = go.Figure(data=[go.Scattergl(x = df[\"Time\"], y = df[\"BorePressure\"], mode = \"lines\", name=\"Bore Pressure\")],)\n",
    "\n",
    "# fig.show()"
   ]
  },
  {
   "cell_type": "code",
   "execution_count": null,
   "id": "4f496917",
   "metadata": {},
   "outputs": [],
   "source": [
    "print(df[\"Time\"].head())"
   ]
  }
 ],
 "metadata": {
  "kernelspec": {
   "display_name": "Python 3",
   "language": "python",
   "name": "python3"
  },
  "language_info": {
   "name": "python",
   "version": "3.12.11"
  }
 },
 "nbformat": 4,
 "nbformat_minor": 5
}
